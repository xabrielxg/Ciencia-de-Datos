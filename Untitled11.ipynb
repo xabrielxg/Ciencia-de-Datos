{
 "cells": [
  {
   "cell_type": "markdown",
   "id": "123b2e94-583b-4c5a-844f-cd91f21564ae",
   "metadata": {},
   "source": [
    "# Mi Cuaderno de Ciencia de Datos\n",
    "\n"
   ]
  },
  {
   "cell_type": "markdown",
   "id": "91fb6d09-b0d5-4465-8e42-c8db93da40eb",
   "metadata": {},
   "source": [
    "## Introducción\n",
    "Este cuaderno está diseñado para introducir conceptos clave en la ciencia de datos, incluyendo lenguajes, bibliotecas y herramientas utilizadas en esta disciplina.\n"
   ]
  },
  {
   "cell_type": "markdown",
   "id": "64056d44-8e02-4d18-823c-21a7a5d00caa",
   "metadata": {},
   "source": [
    "## Lenguajes de la Ciencia de Datos\n",
    "- Python\n",
    "- R\n",
    "- SQL\n",
    "- Julia\n"
   ]
  },
  {
   "cell_type": "markdown",
   "id": "9742546a-9114-4ca3-a7d1-ca533a703471",
   "metadata": {},
   "source": [
    "##### Bibliotecas de Ciencia de Datos\n",
    "- Pandas\n",
    "- NumPy\n",
    "- Matplotlib\n",
    "- Scikit-learn\n",
    "- TensorFlow\n"
   ]
  },
  {
   "cell_type": "markdown",
   "id": "3b8fe0d4-edcc-49aa-86c3-faa45842b1ae",
   "metadata": {},
   "source": [
    "## Herramientas de Ciencia de Datos\n",
    "\n",
    "| Herramienta     | Descripción                      |\n",
    "|------------------|----------------------------------|\n",
    "| Jupyter Notebook  | Entorno interactivo para programación y análisis de datos. |\n",
    "| RStudio           | IDE para R que facilita la programación y visualización de datos. |\n",
    "| Anaconda          | Distribución de Python y R que incluye muchas bibliotecas para ciencia de datos. |\n",
    "| Tableau           | Herramienta de visualización de datos. |\n"
   ]
  },
  {
   "cell_type": "code",
   "execution_count": 9,
   "id": "23dc5ee5-4d26-476c-8894-ac6d6a95b99b",
   "metadata": {},
   "outputs": [
    {
     "data": {
      "text/plain": [
       "(4, 2, 12, 5.0)"
      ]
     },
     "execution_count": 9,
     "metadata": {},
     "output_type": "execute_result"
    }
   ],
   "source": [
    "# Ejemplos de Expresiones Aritméticas\n",
    "suma = 2 + 2         # Suma\n",
    "resta = 5 - 3        # Resta\n",
    "multiplicacion = 4 * 3  # Multiplicación\n",
    "division = 10 / 2    # División\n",
    "\n",
    "(suma, resta, multiplicacion, division)\n"
   ]
  },
  {
   "cell_type": "code",
   "execution_count": 13,
   "id": "1830c717-0088-41e2-be71-965ac67e40ca",
   "metadata": {},
   "outputs": [
    {
     "data": {
      "text/plain": [
       "65"
      ]
     },
     "execution_count": 13,
     "metadata": {},
     "output_type": "execute_result"
    }
   ],
   "source": [
    "# Multiplicación y Suma\n",
    "a = 5\n",
    "b = 10\n",
    "resultado = (a * b) + (a + b)\n",
    "resultado\n"
   ]
  },
  {
   "cell_type": "code",
   "execution_count": 14,
   "id": "e3caba91-19b1-4f95-a143-af025994630f",
   "metadata": {},
   "outputs": [
    {
     "data": {
      "text/plain": [
       "2.0"
      ]
     },
     "execution_count": 14,
     "metadata": {},
     "output_type": "execute_result"
    }
   ],
   "source": [
    "# Convertir minutos a horas\n",
    "minutos = 120\n",
    "horas = minutos / 60\n",
    "horas\n"
   ]
  },
  {
   "cell_type": "markdown",
   "id": "acc8a10b-a6ff-48d0-87b0-d92da3b2d930",
   "metadata": {},
   "source": [
    "# Objetivos\n",
    "objetivos = [\n",
    "    \"Comprender los conceptos fundamentales de la ciencia de datos.\",\n",
    "    \"Aprender a utilizar herramientas y bibliotecas en Python.\",\n",
    "    \"Aplicar métodos de análisis de datos.\"\n",
    "]\n",
    "objetivos\n"
   ]
  },
  {
   "cell_type": "markdown",
   "id": "b75f3db0-027d-4057-aa75-b4213109c64b",
   "metadata": {},
   "source": [
    "## Autor\r\n",
    "Gabriel Díaz Herrera\r\n"
   ]
  }
 ],
 "metadata": {
  "kernelspec": {
   "display_name": "Python 3 (ipykernel)",
   "language": "python",
   "name": "python3"
  },
  "language_info": {
   "codemirror_mode": {
    "name": "ipython",
    "version": 3
   },
   "file_extension": ".py",
   "mimetype": "text/x-python",
   "name": "python",
   "nbconvert_exporter": "python",
   "pygments_lexer": "ipython3",
   "version": "3.11.7"
  }
 },
 "nbformat": 4,
 "nbformat_minor": 5
}
